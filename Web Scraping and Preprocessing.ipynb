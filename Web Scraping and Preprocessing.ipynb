{
 "cells": [
  {
   "cell_type": "markdown",
   "metadata": {},
   "source": [
    "# Webscraping"
   ]
  },
  {
   "cell_type": "code",
   "execution_count": 1,
   "metadata": {},
   "outputs": [
    {
     "name": "stderr",
     "output_type": "stream",
     "text": [
      "C:\\Users\\Delbert\\Anaconda3\\lib\\site-packages\\numpy\\_distributor_init.py:32: UserWarning: loaded more than 1 DLL from .libs:\n",
      "C:\\Users\\Delbert\\Anaconda3\\lib\\site-packages\\numpy\\.libs\\libopenblas.IPBC74C7KURV7CB2PKT5Z5FNR3SIBV4J.gfortran-win_amd64.dll\n",
      "C:\\Users\\Delbert\\Anaconda3\\lib\\site-packages\\numpy\\.libs\\libopenblas.PYQHXLVVQ7VESDPUVUADXEVJOBGHJPAY.gfortran-win_amd64.dll\n",
      "  stacklevel=1)\n"
     ]
    }
   ],
   "source": [
    "from bs4 import BeautifulSoup\n",
    "from urllib.request import Request, urlopen\n",
    "import re\n",
    "import pandas as pd"
   ]
  },
  {
   "cell_type": "code",
   "execution_count": 2,
   "metadata": {},
   "outputs": [],
   "source": [
    "def webscraper(depth):\n",
    "    # Final Dataframe\n",
    "    final = pd.DataFrame.from_dict({\"query\": [\"None\"], \"response\": [\"None\"]})\n",
    "    queries = []\n",
    "    responses = []\n",
    "    # Iterating through pages of forum\n",
    "    for i in range(depth):\n",
    "        # Finding all posts on forum page \n",
    "        url = \"https://patient.info/forums/discuss/browse/depression-683?page={}#group-discussions\".format(int(i))\n",
    "        page = urlopen(Request(url, headers = {\"User-Agent\": \"Mozilla/5.0\"})).read()\n",
    "        soup = BeautifulSoup(page, 'html.parser')\n",
    "        \n",
    "        href = [i[\"href\"] for i in soup.find_all(\"a\", href = True)]\n",
    "        post_links = list(filter(lambda x:re.match(r\"/forums/discuss/\", x), href))\n",
    "        post_links = list(set(post_links))\n",
    "        \n",
    "        # Iterating through every post on forum page\n",
    "        for x in post_links:\n",
    "            posturl = \"https://patient.info/{}\".format(str(x))\n",
    "            postpage = urlopen(Request(posturl, headers = {\"User-Agent\": \"Mozilla/5.0\"})).read()\n",
    "            soup = BeautifulSoup(postpage, 'html.parser')\n",
    "            query = soup.find(\"div\", {\"class\": \"post__content\"}).get_text()\n",
    "\n",
    "            # Creating list in case of multiple responses\n",
    "            temp = []\n",
    "            \n",
    "            for el in soup.findAll(\"div\", {\"class\": \"post__content break-word\"}):\n",
    "                temp.append(el.get_text())\n",
    "\n",
    "            # Appending all responses to dataframe\n",
    "            if len(temp) == 1:  \n",
    "                queries.append(query)\n",
    "                responses.append(temp[0])\n",
    "            elif len(temp) > 1:\n",
    "                for i in temp:\n",
    "                    queries.append(query)\n",
    "                    responses.append(str(i))\n",
    "            else:\n",
    "                queries.append(\"None\")\n",
    "                responses.append(\"None\")\n",
    "                \n",
    "    final = final.append(pd.DataFrame.from_dict({\"query\": queries, \"response\": responses}), ignore_index = True)\n",
    "    final.drop(0, inplace = True)\n",
    "\n",
    "    return final, queries, responses\n",
    "        "
   ]
  },
  {
   "cell_type": "raw",
   "metadata": {},
   "source": [
    "df, queries, responses = webscraper(100)\n",
    "df.to_csv(\"unprocessed_posts.csv\", index = False)"
   ]
  },
  {
   "cell_type": "markdown",
   "metadata": {},
   "source": [
    "# Preprocessing"
   ]
  },
  {
   "cell_type": "code",
   "execution_count": 3,
   "metadata": {},
   "outputs": [],
   "source": [
    "import statistics\n",
    "import matplotlib.pyplot as plt\n",
    "import seaborn as sns\n",
    "import pandas as pd\n",
    "\n",
    "import nltk\n",
    "from nltk.tokenize import sent_tokenize\n",
    "\n",
    "%matplotlib inline"
   ]
  },
  {
   "cell_type": "code",
   "execution_count": 4,
   "metadata": {},
   "outputs": [
    {
     "data": {
      "text/html": [
       "<div>\n",
       "<style scoped>\n",
       "    .dataframe tbody tr th:only-of-type {\n",
       "        vertical-align: middle;\n",
       "    }\n",
       "\n",
       "    .dataframe tbody tr th {\n",
       "        vertical-align: top;\n",
       "    }\n",
       "\n",
       "    .dataframe thead th {\n",
       "        text-align: right;\n",
       "    }\n",
       "</style>\n",
       "<table border=\"1\" class=\"dataframe\">\n",
       "  <thead>\n",
       "    <tr style=\"text-align: right;\">\n",
       "      <th></th>\n",
       "      <th>query</th>\n",
       "      <th>response</th>\n",
       "    </tr>\n",
       "  </thead>\n",
       "  <tbody>\n",
       "    <tr>\n",
       "      <th>0</th>\n",
       "      <td>\\n\\nstarted on 50mg , dr increased to 100 mgdr...</td>\n",
       "      <td>\\n\\nhi Ingridare you taking sertraline? Someti...</td>\n",
       "    </tr>\n",
       "    <tr>\n",
       "      <th>1</th>\n",
       "      <td>\\n\\nBelow are listed recommended resources for...</td>\n",
       "      <td>\\n\\r\\nawesome resource! thank you!            ...</td>\n",
       "    </tr>\n",
       "    <tr>\n",
       "      <th>2</th>\n",
       "      <td>\\n\\nBelow are listed recommended resources for...</td>\n",
       "      <td>\\n\\r\\nThank you for this, I'm sure lots of peo...</td>\n",
       "    </tr>\n",
       "    <tr>\n",
       "      <th>3</th>\n",
       "      <td>\\n\\nBelow are listed recommended resources for...</td>\n",
       "      <td>\\n\\r\\nThanx for give informatic information fo...</td>\n",
       "    </tr>\n",
       "    <tr>\n",
       "      <th>4</th>\n",
       "      <td>\\n\\nBelow are listed recommended resources for...</td>\n",
       "      <td>\\n\\r\\nYou are AMAZING for this! Thank you Hun....</td>\n",
       "    </tr>\n",
       "    <tr>\n",
       "      <th>5</th>\n",
       "      <td>\\n\\nHello everyone!\\nI am now a couple a years...</td>\n",
       "      <td>\\n\\nhi uzumak, i apologise if i have spelt you...</td>\n",
       "    </tr>\n",
       "    <tr>\n",
       "      <th>6</th>\n",
       "      <td>\\n\\nHello everyone!\\nI am now a couple a years...</td>\n",
       "      <td>\\n\\nHi Uzumaki, I totally understand not wanti...</td>\n",
       "    </tr>\n",
       "    <tr>\n",
       "      <th>7</th>\n",
       "      <td>\\n\\nHello, thanks for reading and I apologize ...</td>\n",
       "      <td>\\n\\nHi Chantal, I can say quite categorically ...</td>\n",
       "    </tr>\n",
       "    <tr>\n",
       "      <th>8</th>\n",
       "      <td>\\n\\nHello, thanks for reading and I apologize ...</td>\n",
       "      <td>\\n\\r\\nAw Chantal, you poor girl this sounds ve...</td>\n",
       "    </tr>\n",
       "    <tr>\n",
       "      <th>9</th>\n",
       "      <td>\\n\\nHello, thanks for reading and I apologize ...</td>\n",
       "      <td>\\n\\nHi ChantalAnxiety can cause us to doubt ev...</td>\n",
       "    </tr>\n",
       "  </tbody>\n",
       "</table>\n",
       "</div>"
      ],
      "text/plain": [
       "                                               query  \\\n",
       "0  \\n\\nstarted on 50mg , dr increased to 100 mgdr...   \n",
       "1  \\n\\nBelow are listed recommended resources for...   \n",
       "2  \\n\\nBelow are listed recommended resources for...   \n",
       "3  \\n\\nBelow are listed recommended resources for...   \n",
       "4  \\n\\nBelow are listed recommended resources for...   \n",
       "5  \\n\\nHello everyone!\\nI am now a couple a years...   \n",
       "6  \\n\\nHello everyone!\\nI am now a couple a years...   \n",
       "7  \\n\\nHello, thanks for reading and I apologize ...   \n",
       "8  \\n\\nHello, thanks for reading and I apologize ...   \n",
       "9  \\n\\nHello, thanks for reading and I apologize ...   \n",
       "\n",
       "                                            response  \n",
       "0  \\n\\nhi Ingridare you taking sertraline? Someti...  \n",
       "1  \\n\\r\\nawesome resource! thank you!            ...  \n",
       "2  \\n\\r\\nThank you for this, I'm sure lots of peo...  \n",
       "3  \\n\\r\\nThanx for give informatic information fo...  \n",
       "4  \\n\\r\\nYou are AMAZING for this! Thank you Hun....  \n",
       "5  \\n\\nhi uzumak, i apologise if i have spelt you...  \n",
       "6  \\n\\nHi Uzumaki, I totally understand not wanti...  \n",
       "7  \\n\\nHi Chantal, I can say quite categorically ...  \n",
       "8  \\n\\r\\nAw Chantal, you poor girl this sounds ve...  \n",
       "9  \\n\\nHi ChantalAnxiety can cause us to doubt ev...  "
      ]
     },
     "execution_count": 4,
     "metadata": {},
     "output_type": "execute_result"
    }
   ],
   "source": [
    "df = pd.read_csv(\"unprocessed_posts.csv\")\n",
    "df.head(10)"
   ]
  },
  {
   "cell_type": "code",
   "execution_count": 5,
   "metadata": {},
   "outputs": [],
   "source": [
    "# Removing \\n and likes/follow counts and Report/Delete text\n",
    "df[\"query\"] = df[\"query\"].apply(lambda x: re.sub(r'[0-9]+ likes.*', '', re.sub(r'\\n', ' ', x)))\n",
    "df[\"response\"] = df[\"response\"].apply(lambda x: re.sub(r'Report.*', '', re.sub(r'\\n', ' ', x)))\n",
    "\n",
    "# # Removing anything that isn't a character\n",
    "# df[\"query\"] = df[\"query\"].apply(lambda x: re.sub(r'[^a-zA-Z.]+', ' ', x))\n",
    "\n",
    "# Removing pinned post\n",
    "df.drop(df.index[1:5], inplace = True)\n",
    "df.reset_index(drop = True, inplace = True)\n",
    "\n",
    "# Removing links\n",
    "df[\"query\"] = df[\"query\"].apply(lambda x: re.sub(r'http.*? ', ' ', x))\n",
    "\n",
    "# Removing None's\n",
    "df = df[df['query'] != \"None\"]"
   ]
  },
  {
   "cell_type": "code",
   "execution_count": 36,
   "metadata": {},
   "outputs": [
    {
     "name": "stdout",
     "output_type": "stream",
     "text": [
      "Mean query length:  236.88555489814894\n",
      "Median query length:  170.0\n",
      "\n",
      "\n",
      "Mean Response length:  94.49078691572986\n",
      "Median Response length:  67.0\n"
     ]
    },
    {
     "data": {
      "image/png": "[encoded data removed]",
      "text/plain": [
       "<Figure size 432x288 with 1 Axes>"
      ]
     },
     "metadata": {
      "needs_background": "light"
     },
     "output_type": "display_data"
    }
   ],
   "source": [
    "# Naive token assumptions (assuming space separates tokens)\n",
    "\n",
    "token_len_query = [len(x) for x in [x.split(' ') for x in df[\"query\"]]]\n",
    "token_len_response = [len(x) for x in [x.split(' ') for x in df[\"response\"]]]\n",
    "\n",
    "print(\"Mean query length: \", str(sum(token_len_query)/len(token_len_query)))\n",
    "print(\"Median query length: \", statistics.median(token_len_query))\n",
    "print(\"\\n\")\n",
    "print(\"Mean Response length: \", str(sum(token_len_response)/len(token_len_response)))\n",
    "print(\"Median Response length: \", statistics.median(token_len_response))\n",
    "\n",
    "g = sns.kdeplot(token_len_query, label = \"Query Length\")\n",
    "g = sns.kdeplot(token_len_response, label = \"Response Length\")\n",
    "g.set_title(\"Length of Queries and Responses Tokens\")\n",
    "g.set_xlim(0, 512)\n",
    "plt.show()"
   ]
  },
  {
   "cell_type": "code",
   "execution_count": 6,
   "metadata": {},
   "outputs": [
    {
     "data": {
      "image/png": "[encoded data removed]",
      "text/plain": [
       "<Figure size 432x288 with 1 Axes>"
      ]
     },
     "metadata": {
      "needs_background": "light"
     },
     "output_type": "display_data"
    }
   ],
   "source": [
    "sent_len_query = [len(x) for x in [x.split('$') for x in [re.sub(r\"[.!?]\", \"$\", x) for x in df[\"query\"]]]]\n",
    "sent_len_query = [len(x) for x in [x.split('$') for x in [re.sub(r\"[.!?]\", \"$\", x) for x in df[\"response\"]]]]\n",
    "\n",
    "g = sns.kdeplot(token_len_query, label = \"Query Length\")\n",
    "g = sns.kdeplot(token_len_response, label = \"Response Length\")\n",
    "g.set_title(\"Length of Queries and Responses Sentences\")\n",
    "g.set_xlim(0, 50)\n",
    "plt.show()"
   ]
  },
  {
   "cell_type": "markdown",
   "metadata": {},
   "source": [
    "### Text Summarization"
   ]
  },
  {
   "cell_type": "code",
   "execution_count": 6,
   "metadata": {},
   "outputs": [],
   "source": [
    "import time\n",
    "import torch\n",
    "from torch.autograd import Variable\n",
    "import sys\n",
    "sys.path.append(\"skip-thoughts.torch/pytorch\")\n",
    "from skipthoughts import DropUniSkip\n",
    "\n",
    "import numpy as np\n",
    "from sklearn.cluster import KMeans\n",
    "from sklearn.metrics import pairwise_distances_argmin_min\n",
    "\n",
    "def summarize(forum_post, clusters=3, model_path = 'models/'):\n",
    "    try: \n",
    "        # Tokenizing and Formatting\n",
    "        sentences = sent_tokenize(forum_post)\n",
    "        sentences = [re.sub(r'[^a-zA-Z.!?]', ' ', x) for x in sentences]\n",
    "\n",
    "        dir_st = model_path\n",
    "        post = [nltk.tokenize.word_tokenize(x) for x in sentences]\n",
    "        vocab = list(set([word for sentence in post for word in sentence]))\n",
    "\n",
    "        raw = []\n",
    "\n",
    "        for sentence in post:\n",
    "            temp = []\n",
    "            for word in sentence:\n",
    "                temp.append(vocab.index(str(word)))\n",
    "            raw+=[temp]\n",
    "\n",
    "        for x in raw:\n",
    "            if len(x) < max([len(x) for x in raw]):\n",
    "                x += [\"0\"]*(max([len(x) for x in raw])-len(x))\n",
    "\n",
    "        final = []\n",
    "\n",
    "        for sent in raw:\n",
    "            temp = []\n",
    "            for word in sent:\n",
    "                temp.append(int(word))\n",
    "            final += [temp]\n",
    "\n",
    "        # Skipthought summarization\n",
    "        x = Variable(torch.LongTensor(final))\n",
    "\n",
    "        uniskip = DropUniSkip(dir_st, vocab)\n",
    "\n",
    "        output = uniskip(x)\n",
    "        output = output.detach().numpy()\n",
    "\n",
    "        # Clustering and summarizing\n",
    "        n_clusters = clusters\n",
    "        kmeans = KMeans(n_clusters = n_clusters)\n",
    "        kmeans = kmeans.fit(output)\n",
    "\n",
    "        avg = []\n",
    "        for j in range(n_clusters):\n",
    "            idx = np.where(kmeans.labels_ == j)[0]\n",
    "            avg.append(np.mean(idx))\n",
    "        closest, _ = pairwise_distances_argmin_min(kmeans.cluster_centers_, output)\n",
    "        ordering = sorted(range(n_clusters), key=lambda k: avg[k])\n",
    "        summary = ' '.join([sentences[closest[idx]] for idx in ordering])\n",
    "\n",
    "        print(forum_post[0:50])\n",
    "    \n",
    "        return summary\n",
    "    \n",
    "    except: \n",
    "        return (\"None\")"
   ]
  },
  {
   "cell_type": "code",
   "execution_count": null,
   "metadata": {},
   "outputs": [],
   "source": []
  },
  {
   "cell_type": "markdown",
   "metadata": {},
   "source": [
    "# Scrap Code"
   ]
  },
  {
   "cell_type": "code",
   "execution_count": 35,
   "metadata": {},
   "outputs": [
    {
     "data": {
      "text/plain": [
       "<module 'skipthoughts' from 'C:\\\\Users\\\\Delbert\\\\Documents\\\\Kevin\\\\Masters\\\\Thesis\\\\skipthoughts.py'>"
      ]
     },
     "execution_count": 35,
     "metadata": {},
     "output_type": "execute_result"
    }
   ],
   "source": [
    "import importlib\n",
    "importlib.reload(skipthoughts)"
   ]
  }
 ],
 "metadata": {
  "kernelspec": {
   "display_name": "Python 3",
   "language": "python",
   "name": "python3"
  },
  "language_info": {
   "codemirror_mode": {
    "name": "ipython",
    "version": 3
   },
   "file_extension": ".py",
   "mimetype": "text/x-python",
   "name": "python",
   "nbconvert_exporter": "python",
   "pygments_lexer": "ipython3",
   "version": "3.6.5"
  }
 },
 "nbformat": 4,
 "nbformat_minor": 2
}
